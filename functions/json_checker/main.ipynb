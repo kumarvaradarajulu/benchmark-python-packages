{
 "cells": [
  {
   "cell_type": "markdown",
   "source": [],
   "metadata": {
    "collapsed": false,
    "pycharm": {
     "name": "#%% md\n"
    }
   }
  },
  {
   "cell_type": "code",
   "execution_count": 108,
   "metadata": {
    "collapsed": true,
    "pycharm": {
     "is_executing": false
    }
   },
   "outputs": [],
   "source": [
    "import json as pyjson\n",
    "import pandas as pd\n",
    "import timeit\n",
    "\n",
    "import orjson\n",
    "import rapidjson\n",
    "import simplejson\n",
    "import ujson\n"
   ]
  },
  {
   "cell_type": "code",
   "execution_count": 133,
   "outputs": [
    {
     "data": {
      "text/plain": "<Figure size 720x432 with 1 Axes>",
      "image/png": "[encoded data removed]"
     },
     "metadata": {
      "needs_background": "light"
     },
     "output_type": "display_data"
    }
   ],
   "source": [
    "def metrics_json_decode(number, json_file_name):\n",
    "    json_decode = {}\n",
    "    with open(json_file_name, \"rb\") as f:\n",
    "        data = f.read()\n",
    "    for json_module in (pyjson, simplejson, orjson, rapidjson, ujson):\n",
    "        secs = timeit.timeit(lambda: f\"json_module.loads(data)\", number=number)\n",
    "        json_decode[json_module.__name__] = secs\n",
    "    return json_decode\n",
    "\n",
    "\n",
    "def metrics_json_encode(number, json_file_name):\n",
    "    json_encode = {}\n",
    "    with open(json_file_name, \"rb\") as f:\n",
    "        large_dict = pyjson.loads(f.read()) \n",
    "    for json_module in (pyjson, simplejson, orjson, rapidjson, ujson):\n",
    "        secs = timeit.timeit(lambda: f\"json_module.dumps(large_dict)\", number=number)\n",
    "        json_encode[json_module.__name__] = secs\n",
    "    return json_encode\n",
    "\n",
    "\n",
    "number = 1000000\n",
    "json_decode_metrics = metrics_json_decode(number, \"twitter.json\")\n",
    "json_encode_metrics = metrics_json_encode(number, \"twitter.json\")\n",
    "\n",
    "metrics = {\"decode\": json_decode_metrics, \"encode\": json_encode_metrics}\n",
    "df = pd.DataFrame(metrics)\n",
    "chart = df.plot.bar(figsize=(10, 6))\n",
    "max_value = 0\n",
    "for p in chart.patches:\n",
    "     chart.annotate(\"%.3f\" % p.get_height(), (p.get_x() + p.get_width() / 2., p.get_height()),\n",
    "         ha='center', va='center', fontsize=8, color='black', xytext=(0, 15),\n",
    "         textcoords='offset points', rotation=60)\n",
    "     if max_value < p.get_height():\n",
    "         max_value = p.get_height()\n",
    "_ = chart.set_ylim(0, max_value+max_value*0.3) "
   ],
   "metadata": {
    "collapsed": false,
    "pycharm": {
     "name": "#%%\n",
     "is_executing": false
    }
   }
  },
  {
   "cell_type": "code",
   "execution_count": 109,
   "outputs": [],
   "source": [],
   "metadata": {
    "collapsed": false,
    "pycharm": {
     "name": "#%%\n",
     "is_executing": false
    }
   }
  }
 ],
 "metadata": {
  "kernelspec": {
   "display_name": "Python 3",
   "language": "python",
   "name": "python3"
  },
  "language_info": {
   "codemirror_mode": {
    "name": "ipython",
    "version": 2
   },
   "file_extension": ".py",
   "mimetype": "text/x-python",
   "name": "python",
   "nbconvert_exporter": "python",
   "pygments_lexer": "ipython2",
   "version": "2.7.6"
  },
  "pycharm": {
   "stem_cell": {
    "cell_type": "raw",
    "source": [],
    "metadata": {
     "collapsed": false
    }
   }
  }
 },
 "nbformat": 4,
 "nbformat_minor": 0
}